{
  "nbformat": 4,
  "nbformat_minor": 0,
  "metadata": {
    "kernelspec": {
      "display_name": "Python 3",
      "language": "python",
      "name": "python3"
    },
    "language_info": {
      "codemirror_mode": {
        "name": "ipython",
        "version": 3
      },
      "file_extension": ".py",
      "mimetype": "text/x-python",
      "name": "python",
      "nbconvert_exporter": "python",
      "pygments_lexer": "ipython3",
      "version": "3.6.7"
    },
    "toc": {
      "base_numbering": 1,
      "nav_menu": {},
      "number_sections": true,
      "sideBar": true,
      "skip_h1_title": false,
      "title_cell": "Table of Contents",
      "title_sidebar": "Contents",
      "toc_cell": false,
      "toc_position": {},
      "toc_section_display": true,
      "toc_window_display": false
    },
    "colab": {
      "name": "07_Decision_Strategy_metrics.ipynb",
      "provenance": [],
      "collapsed_sections": [
        "0gwYF-HrzQKi",
        "XPDoBic3zYAV",
        "2z5jg12aq34E"
      ]
    }
  },
  "cells": [
    {
      "cell_type": "markdown",
      "metadata": {
        "id": "cUO6d9Ql-DKt",
        "colab_type": "text"
      },
      "source": [
        "![](https://d6vdma9166ldh.cloudfront.net/media/images/4594dcf8-a8c5-4fa7-a6d4-bab2c9081041.jpg)"
      ]
    },
    {
      "cell_type": "markdown",
      "metadata": {
        "id": "Pwt3NUjvrc4u",
        "colab_type": "text"
      },
      "source": [
        "# Zadanie:\n",
        "### Przeanalizuj dane historyczne dotyczące sprzedaży produktu i zamodeluj profil klienta"
      ]
    },
    {
      "cell_type": "markdown",
      "metadata": {
        "id": "5JLZDo0lryOL",
        "colab_type": "text"
      },
      "source": [
        "\n",
        "\n",
        "---\n",
        "\n"
      ]
    },
    {
      "cell_type": "markdown",
      "metadata": {
        "id": "x69L2mAHrNPX",
        "colab_type": "text"
      },
      "source": [
        "#### Dane w pliku `train.xlsx` zawierają następujące dane:\n",
        "\n",
        "|Zmienna|Objasnienie|\n",
        "|-------|-----------|\n",
        "|Id|Unique Id|\n",
        "|Bought_Product|Whether customer bought new product or not|\n",
        "|Market_Segment\t|One of 3 market segments|\n",
        "|Online_Account\t|Whether customer have online account|\n",
        "|EnergyTariff| One of 3 Energy Tariffs|\n",
        "|Sex| F-female, M-male|\n",
        "|Age| Age in years|\n",
        "|Non_Energy_Product| How many non-energy products customer have e.g. insurance|\n",
        "|How_many_other_contracts| How many other energy contracts customer have (e.g. for 2nd property)|\n",
        "|Billing_Amount| Average Monthly Invoice in PLN|\n",
        "|District| One of A-E Districts|\n",
        "\n"
      ]
    },
    {
      "cell_type": "markdown",
      "metadata": {
        "id": "0gwYF-HrzQKi",
        "colab_type": "text"
      },
      "source": [
        "## 1. Wczytanie pakietów"
      ]
    },
    {
      "cell_type": "code",
      "metadata": {
        "id": "RjNwYQWAzgRH",
        "colab_type": "code",
        "colab": {}
      },
      "source": [
        "import pandas as pd\n",
        "import numpy as np\n",
        "\n",
        "import matplotlib.pyplot as plt\n",
        "%matplotlib inline"
      ],
      "execution_count": 0,
      "outputs": []
    },
    {
      "cell_type": "markdown",
      "metadata": {
        "id": "XPDoBic3zYAV",
        "colab_type": "text"
      },
      "source": [
        "## 2. Wczytanie plików"
      ]
    },
    {
      "cell_type": "code",
      "metadata": {
        "id": "uBFyG1hnuH0g",
        "colab_type": "code",
        "colab": {
          "base_uri": "https://localhost:8080/",
          "height": 34
        },
        "outputId": "80522088-b613-41b4-8277-753eafe0ed0a"
      },
      "source": [
        "from google.colab import drive\n",
        "drive.mount('/content/drive')"
      ],
      "execution_count": 54,
      "outputs": [
        {
          "output_type": "stream",
          "text": [
            "Drive already mounted at /content/drive; to attempt to forcibly remount, call drive.mount(\"/content/drive\", force_remount=True).\n"
          ],
          "name": "stdout"
        }
      ]
    },
    {
      "cell_type": "code",
      "metadata": {
        "id": "n9gyDABRrNCl",
        "colab_type": "code",
        "outputId": "3de1370d-5386-4828-e304-eb58b20e8823",
        "colab": {
          "base_uri": "https://localhost:8080/",
          "height": 111
        }
      },
      "source": [
        "# >>>>>>>TU ZMIENIĆ ŚCIEŻKĘ DO PLIKU <<<<<<<#\n",
        "dataset_path = \"/content/drive/My Drive/DSMaciek/train.xlsx\"\n",
        "raw_df = pd.read_excel(dataset_path)\n",
        "raw_df.set_index('Id', inplace=True)\n",
        "# raw_df.sample()"
      ],
      "execution_count": 56,
      "outputs": [
        {
          "output_type": "execute_result",
          "data": {
            "text/html": [
              "<div>\n",
              "<style scoped>\n",
              "    .dataframe tbody tr th:only-of-type {\n",
              "        vertical-align: middle;\n",
              "    }\n",
              "\n",
              "    .dataframe tbody tr th {\n",
              "        vertical-align: top;\n",
              "    }\n",
              "\n",
              "    .dataframe thead th {\n",
              "        text-align: right;\n",
              "    }\n",
              "</style>\n",
              "<table border=\"1\" class=\"dataframe\">\n",
              "  <thead>\n",
              "    <tr style=\"text-align: right;\">\n",
              "      <th></th>\n",
              "      <th>Bought_Product</th>\n",
              "      <th>Market_Segment</th>\n",
              "      <th>Online_Account</th>\n",
              "      <th>EnergyTariff</th>\n",
              "      <th>Sex</th>\n",
              "      <th>Age</th>\n",
              "      <th>Non_Energy_Product</th>\n",
              "      <th>How_many_other_contracts</th>\n",
              "      <th>Billing_Amount</th>\n",
              "      <th>District</th>\n",
              "    </tr>\n",
              "    <tr>\n",
              "      <th>Id</th>\n",
              "      <th></th>\n",
              "      <th></th>\n",
              "      <th></th>\n",
              "      <th></th>\n",
              "      <th></th>\n",
              "      <th></th>\n",
              "      <th></th>\n",
              "      <th></th>\n",
              "      <th></th>\n",
              "      <th></th>\n",
              "    </tr>\n",
              "  </thead>\n",
              "  <tbody>\n",
              "    <tr>\n",
              "      <th>392</th>\n",
              "      <td>1</td>\n",
              "      <td>1</td>\n",
              "      <td>1.0</td>\n",
              "      <td>C12</td>\n",
              "      <td>F</td>\n",
              "      <td>16</td>\n",
              "      <td>0</td>\n",
              "      <td>1</td>\n",
              "      <td>57.9792</td>\n",
              "      <td>DistrictC</td>\n",
              "    </tr>\n",
              "  </tbody>\n",
              "</table>\n",
              "</div>"
            ],
            "text/plain": [
              "     Bought_Product  Market_Segment  ...  Billing_Amount   District\n",
              "Id                                   ...                           \n",
              "392               1               1  ...         57.9792  DistrictC\n",
              "\n",
              "[1 rows x 10 columns]"
            ]
          },
          "metadata": {
            "tags": []
          },
          "execution_count": 56
        }
      ]
    },
    {
      "cell_type": "markdown",
      "metadata": {
        "id": "2z5jg12aq34E",
        "colab_type": "text"
      },
      "source": [
        "### Sprawdzenie poprawności danych"
      ]
    },
    {
      "cell_type": "code",
      "metadata": {
        "id": "rTWPQJ-50RsR",
        "colab_type": "code",
        "colab": {}
      },
      "source": [
        "# for col_ in raw_df.columns:\n",
        "#   print(f\">>>>>{col_}<<<<<\")\n",
        "#   unique_values = raw_df[col_].value_counts()\n",
        "#   if unique_values.shape[0] < 10:\n",
        "#     print(unique_values)\n",
        "#   else:\n",
        "#     raw_df[col_].hist(figsize=(5,2))\n",
        "#     plt.title(col_)\n",
        "#     plt.show()\n",
        "    "
      ],
      "execution_count": 0,
      "outputs": []
    },
    {
      "cell_type": "code",
      "metadata": {
        "id": "6OW3E1neypki",
        "colab_type": "code",
        "colab": {
          "base_uri": "https://localhost:8080/",
          "height": 165
        },
        "outputId": "58f114d6-b191-48bf-b1dd-aec9dc13f442"
      },
      "source": [
        "df = raw_df.drop(\"Online_Account\", axis=1)\n",
        "# df = raw_df.drop(columns=['Online_Account'])\n",
        "df.loc[(df['Age'] < 18) | (df['Age'] > 100), 'Age'] = np.nan\n",
        "df.dropna(inplace=True)\n",
        "print(\"liczba obserwacji i zmiennych przed i po obróbce\")\n",
        "print(raw_df.shape, df.shape)\n",
        "cat_columns = ['Market_Segment', 'Sex', 'District', 'EnergyTariff']\n",
        "for col_ in cat_columns:\n",
        "  df = df.join(pd.get_dummies(df[col_], drop_first=True, prefix=col_)).drop(col_, axis=1)\n",
        "\n",
        "df.sample()"
      ],
      "execution_count": 63,
      "outputs": [
        {
          "output_type": "stream",
          "text": [
            "liczba obserwacji i zmiennych przed i po obróbce\n",
            "(626, 10) (494, 9)\n"
          ],
          "name": "stdout"
        },
        {
          "output_type": "execute_result",
          "data": {
            "text/html": [
              "<div>\n",
              "<style scoped>\n",
              "    .dataframe tbody tr th:only-of-type {\n",
              "        vertical-align: middle;\n",
              "    }\n",
              "\n",
              "    .dataframe tbody tr th {\n",
              "        vertical-align: top;\n",
              "    }\n",
              "\n",
              "    .dataframe thead th {\n",
              "        text-align: right;\n",
              "    }\n",
              "</style>\n",
              "<table border=\"1\" class=\"dataframe\">\n",
              "  <thead>\n",
              "    <tr style=\"text-align: right;\">\n",
              "      <th></th>\n",
              "      <th>Bought_Product</th>\n",
              "      <th>Age</th>\n",
              "      <th>Non_Energy_Product</th>\n",
              "      <th>How_many_other_contracts</th>\n",
              "      <th>Billing_Amount</th>\n",
              "      <th>Market_Segment_2</th>\n",
              "      <th>Market_Segment_3</th>\n",
              "      <th>Sex_M</th>\n",
              "      <th>District_DistrictB</th>\n",
              "      <th>District_DistrictC</th>\n",
              "      <th>District_DistrictD</th>\n",
              "      <th>District_DistrictE</th>\n",
              "      <th>EnergyTariff_G11</th>\n",
              "      <th>EnergyTariff_G12</th>\n",
              "    </tr>\n",
              "    <tr>\n",
              "      <th>Id</th>\n",
              "      <th></th>\n",
              "      <th></th>\n",
              "      <th></th>\n",
              "      <th></th>\n",
              "      <th></th>\n",
              "      <th></th>\n",
              "      <th></th>\n",
              "      <th></th>\n",
              "      <th></th>\n",
              "      <th></th>\n",
              "      <th></th>\n",
              "      <th></th>\n",
              "      <th></th>\n",
              "      <th></th>\n",
              "    </tr>\n",
              "  </thead>\n",
              "  <tbody>\n",
              "    <tr>\n",
              "      <th>710</th>\n",
              "      <td>0</td>\n",
              "      <td>49.0</td>\n",
              "      <td>1</td>\n",
              "      <td>1</td>\n",
              "      <td>110.8833</td>\n",
              "      <td>0</td>\n",
              "      <td>0</td>\n",
              "      <td>1</td>\n",
              "      <td>0</td>\n",
              "      <td>0</td>\n",
              "      <td>1</td>\n",
              "      <td>0</td>\n",
              "      <td>0</td>\n",
              "      <td>0</td>\n",
              "    </tr>\n",
              "  </tbody>\n",
              "</table>\n",
              "</div>"
            ],
            "text/plain": [
              "     Bought_Product   Age  ...  EnergyTariff_G11  EnergyTariff_G12\n",
              "Id                         ...                                    \n",
              "710               0  49.0  ...                 0                 0\n",
              "\n",
              "[1 rows x 14 columns]"
            ]
          },
          "metadata": {
            "tags": []
          },
          "execution_count": 63
        }
      ]
    },
    {
      "cell_type": "markdown",
      "metadata": {
        "id": "f29HS3jsIRPC",
        "colab_type": "text"
      },
      "source": [
        "## 3. Modelowanie"
      ]
    },
    {
      "cell_type": "code",
      "metadata": {
        "id": "jqd8woQQIeWD",
        "colab_type": "code",
        "colab": {}
      },
      "source": [
        "## import pakietów\n",
        "from sklearn.tree import DecisionTreeClassifier\n",
        "from sklearn.tree import export_graphviz\n",
        "from sklearn.svm import LinearSVC\n",
        "\n",
        "from sklearn.model_selection import train_test_split\n",
        "\n",
        "from sklearn.metrics import accuracy_score, plot_roc_curve, confusion_matrix\n",
        "from sklearn.metrics import f1_score, balanced_accuracy_score\n",
        "from sklearn.metrics import plot_roc_curve, plot_confusion_matrix\n"
      ],
      "execution_count": 0,
      "outputs": []
    },
    {
      "cell_type": "code",
      "metadata": {
        "id": "9YyRkMSP44_o",
        "colab_type": "code",
        "colab": {}
      },
      "source": [
        "y = df[\"Bought_Product\"]\n",
        "X = df.drop('Bought_Product', axis=1)\n",
        "df.shape, y.shape, X.shape"
      ],
      "execution_count": 0,
      "outputs": []
    },
    {
      "cell_type": "code",
      "metadata": {
        "id": "Js_oKuHN52p-",
        "colab_type": "code",
        "colab": {
          "base_uri": "https://localhost:8080/",
          "height": 34
        },
        "outputId": "4cde5ca6-4879-40e6-b8fd-3683e01c92fd"
      },
      "source": [
        "X_train, X_test, y_train, y_test = train_test_split(X, y, test_size=0.4, random_state=0, stratify=y)\n",
        "X_train.shape, y_test.shape"
      ],
      "execution_count": 76,
      "outputs": [
        {
          "output_type": "execute_result",
          "data": {
            "text/plain": [
              "((296, 13), (198,))"
            ]
          },
          "metadata": {
            "tags": []
          },
          "execution_count": 76
        }
      ]
    },
    {
      "cell_type": "code",
      "metadata": {
        "id": "3jTIW7pC6OMo",
        "colab_type": "code",
        "colab": {}
      },
      "source": [
        "model = DecisionTreeClassifier(max_depth=5, random_state=0)\n"
      ],
      "execution_count": 0,
      "outputs": []
    },
    {
      "cell_type": "code",
      "metadata": {
        "id": "9_-uvsylUrbB",
        "colab_type": "code",
        "colab": {
          "base_uri": "https://localhost:8080/",
          "height": 641
        },
        "outputId": "7e900030-eeb1-4380-c195-454982215869"
      },
      "source": [
        "model.fit(X_train, y_train)\n",
        "y_train_pred = model.predict(X_train)\n",
        "y_test_pred = model.predict(X_test)\n",
        "\n",
        "print(f\"{balanced_accuracy_score(y_train, y_train_pred)}\")\n",
        "print(f\"{balanced_accuracy_score(y_test, y_test_pred)}\")\n",
        "\n",
        "tn, fp, fn, tp = confusion_matrix(y_train, y_train_pred).ravel()\n",
        "print((tn, fp, fn, tp))\n",
        "plot_confusion_matrix(model, X_train, y_train, values_format='.3g')\n",
        "plt.title('Tablica pomyłek')\n",
        "# threshold = 0.40\n",
        "# predictions = [1 if row[1] >= threshold else 0 for row in model.predict_proba(X_train)]\n",
        "# np.array_equal(predictions, y_train_pred)\n",
        "\n",
        "plot_roc_curve(model, X_test, y_test)\n",
        "plt.title('Receiver Operating Characteristic')"
      ],
      "execution_count": 110,
      "outputs": [
        {
          "output_type": "stream",
          "text": [
            "0.8617021276595744\n",
            "0.7857142857142857\n",
            "(183, 5, 27, 81)\n"
          ],
          "name": "stdout"
        },
        {
          "output_type": "execute_result",
          "data": {
            "text/plain": [
              "Text(0.5, 1.0, 'receiver operating characteristic curve')"
            ]
          },
          "metadata": {
            "tags": []
          },
          "execution_count": 110
        },
        {
          "output_type": "display_data",
          "data": {
            "image/png": "[encoded data removed]",
            "text/plain": [
              "<Figure size 432x288 with 2 Axes>"
            ]
          },
          "metadata": {
            "tags": [],
            "needs_background": "light"
          }
        },
        {
          "output_type": "display_data",
          "data": {
            "image/png": "[encoded data removed]",
            "text/plain": [
              "<Figure size 432x288 with 1 Axes>"
            ]
          },
          "metadata": {
            "tags": [],
            "needs_background": "light"
          }
        }
      ]
    },
    {
      "cell_type": "code",
      "metadata": {
        "id": "0DKESQdM2zd0",
        "colab_type": "code",
        "colab": {}
      },
      "source": [
        "# export_graphviz(model, out_file='tree.dot', feature_names = X_train.columns,\n",
        "#                 rounded = True, proportion = False, precision = 2, filled = True)\n",
        "# !dot -Tpng tree.dot -o tree.png -Gdpi=600\n",
        "\n",
        "# from IPython.display import Image\n",
        "# Image(filename = 'tree.png')"
      ],
      "execution_count": 0,
      "outputs": []
    },
    {
      "cell_type": "code",
      "metadata": {
        "id": "sOgZoHKh2zxq",
        "colab_type": "code",
        "colab": {}
      },
      "source": [
        "# for k, importance in zip(X.columns, model.feature_importances_):\n",
        "#   print(k, importance)"
      ],
      "execution_count": 0,
      "outputs": []
    },
    {
      "cell_type": "code",
      "metadata": {
        "id": "3MzN0FSH7kid",
        "colab_type": "code",
        "colab": {}
      },
      "source": [
        "# model2 = LinearSVC(random_state=0, max_iter=10000)\n",
        "# model2.fit(X_train, y_train)\n",
        "# y_train_pred = model2.predict(X_train)\n",
        "# y_test_pred = model2.predict(X_test)\n",
        "# print(f\"{accuracy_score(y_train, y_train_pred)}\")\n",
        "# print(f\"{accuracy_score(y_test, y_test_pred)}\")"
      ],
      "execution_count": 0,
      "outputs": []
    }
  ]
}