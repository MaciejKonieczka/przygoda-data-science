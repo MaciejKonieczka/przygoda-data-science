{
  "nbformat": 4,
  "nbformat_minor": 0,
  "metadata": {
    "kernelspec": {
      "display_name": "Python 3",
      "language": "python",
      "name": "python3"
    },
    "language_info": {
      "codemirror_mode": {
        "name": "ipython",
        "version": 3
      },
      "file_extension": ".py",
      "mimetype": "text/x-python",
      "name": "python",
      "nbconvert_exporter": "python",
      "pygments_lexer": "ipython3",
      "version": "3.6.7"
    },
    "toc": {
      "base_numbering": 1,
      "nav_menu": {},
      "number_sections": true,
      "sideBar": true,
      "skip_h1_title": false,
      "title_cell": "Table of Contents",
      "title_sidebar": "Contents",
      "toc_cell": false,
      "toc_position": {},
      "toc_section_display": true,
      "toc_window_display": false
    },
    "colab": {
      "name": "Decision_Strategy.ipynb",
      "provenance": [],
      "collapsed_sections": []
    }
  },
  "cells": [
    {
      "cell_type": "markdown",
      "metadata": {
        "id": "cUO6d9Ql-DKt",
        "colab_type": "text"
      },
      "source": [
        "![](https://d6vdma9166ldh.cloudfront.net/media/images/4594dcf8-a8c5-4fa7-a6d4-bab2c9081041.jpg)"
      ]
    },
    {
      "cell_type": "markdown",
      "metadata": {
        "id": "Pwt3NUjvrc4u",
        "colab_type": "text"
      },
      "source": [
        "# Zadanie na dziś:\n",
        "### Przeanalizuj dane historyczne dotyczące sprzedaży produktu "
      ]
    },
    {
      "cell_type": "markdown",
      "metadata": {
        "id": "5JLZDo0lryOL",
        "colab_type": "text"
      },
      "source": [
        "\n",
        "\n",
        "---\n",
        "\n"
      ]
    },
    {
      "cell_type": "markdown",
      "metadata": {
        "id": "x69L2mAHrNPX",
        "colab_type": "text"
      },
      "source": [
        "#### Dane w pliku `train.xlsx` zawierają następujące dane:\n",
        "\n",
        "|Zmienna|Objasnienie|\n",
        "|-------|-----------|\n",
        "|Id|Unique Id|\n",
        "|Bought_Product|Whether customer bought new product or not|\n",
        "|Market_Segment\t|One of 3 market segments|\n",
        "|Online_Account\t|Whether customer have online account|\n",
        "|EnergyTariff| One of 3 Energy Tariffs|\n",
        "|Sex| F-female, M-male|\n",
        "|Age| Age in years|\n",
        "|Non_Energy_Product| How many non-energy products customer have e.g. insurance|\n",
        "|How_many_other_contracts| How many other energy contracts customer have (e.g. for 2nd property)|\n",
        "|Billing_Amount| Average Monthly Invoice in PLN|\n",
        "|District| One of A-E Districts|\n",
        "\n"
      ]
    },
    {
      "cell_type": "markdown",
      "metadata": {
        "id": "o8P8aZqg-4Vv",
        "colab_type": "text"
      },
      "source": [
        "# Rodzaje algorytmów ML\n"
      ]
    },
    {
      "cell_type": "markdown",
      "metadata": {
        "id": "oOzpBXOK_TnC",
        "colab_type": "text"
      },
      "source": [
        "\n",
        "![alt text](https://lh3.googleusercontent.com/proxy/7fyR2uUI6uma1_Q9dIu1iJRHoi3whtcSeBmy1NPPQHx2iBlEm4zTBxQiTn2Sja9K04nFW0TBG4nc_lzOb9sz42D47aLArEYoqSm_Bi2pUFrhrDdWfG87KiC5fV0HLPoUINoZSBON66w8__reTcaj)"
      ]
    },
    {
      "cell_type": "markdown",
      "metadata": {
        "id": "gM3d_eU6_M3o",
        "colab_type": "text"
      },
      "source": [
        "# Kodowanie"
      ]
    },
    {
      "cell_type": "code",
      "metadata": {
        "id": "uBFyG1hnuH0g",
        "colab_type": "code",
        "colab": {}
      },
      "source": [
        "# import packeges\n",
        "import pandas as pd\n",
        "import numpy as np\n",
        "\n",
        "import matplotlib.pyplot as plt\n",
        "%matplotlib inline\n",
        "\n",
        "# from google.colab import drive\n",
        "# drive.mount('/content/drive')"
      ],
      "execution_count": 0,
      "outputs": []
    },
    {
      "cell_type": "code",
      "metadata": {
        "id": "n9gyDABRrNCl",
        "colab_type": "code",
        "colab": {
          "base_uri": "https://localhost:8080/",
          "height": 204
        },
        "outputId": "044ccbc1-f9e5-428a-8ee4-d889ff142833"
      },
      "source": [
        "# >>>>>>>TU ZMIENIĆ ŚCIEŻKĘ DO PLIKU <<<<<<<#\n",
        "dataset_path = \"/content/drive/My Drive/DSMaciek/train.xlsx\"\n",
        "raw_df = pd.read_excel(dataset_path)\n",
        "raw_df.sample(5)"
      ],
      "execution_count": 113,
      "outputs": [
        {
          "output_type": "execute_result",
          "data": {
            "text/html": [
              "<div>\n",
              "<style scoped>\n",
              "    .dataframe tbody tr th:only-of-type {\n",
              "        vertical-align: middle;\n",
              "    }\n",
              "\n",
              "    .dataframe tbody tr th {\n",
              "        vertical-align: top;\n",
              "    }\n",
              "\n",
              "    .dataframe thead th {\n",
              "        text-align: right;\n",
              "    }\n",
              "</style>\n",
              "<table border=\"1\" class=\"dataframe\">\n",
              "  <thead>\n",
              "    <tr style=\"text-align: right;\">\n",
              "      <th></th>\n",
              "      <th>Id</th>\n",
              "      <th>Bought_Product</th>\n",
              "      <th>Market_Segment</th>\n",
              "      <th>Online_Account</th>\n",
              "      <th>EnergyTariff</th>\n",
              "      <th>Sex</th>\n",
              "      <th>Age</th>\n",
              "      <th>Non_Energy_Product</th>\n",
              "      <th>How_many_other_contracts</th>\n",
              "      <th>Billing_Amount</th>\n",
              "      <th>District</th>\n",
              "    </tr>\n",
              "  </thead>\n",
              "  <tbody>\n",
              "    <tr>\n",
              "      <th>215</th>\n",
              "      <td>477</td>\n",
              "      <td>0</td>\n",
              "      <td>3</td>\n",
              "      <td>NaN</td>\n",
              "      <td>NaN</td>\n",
              "      <td>M</td>\n",
              "      <td>16</td>\n",
              "      <td>2</td>\n",
              "      <td>0</td>\n",
              "      <td>21.6792</td>\n",
              "      <td>DistrictC</td>\n",
              "    </tr>\n",
              "    <tr>\n",
              "      <th>271</th>\n",
              "      <td>533</td>\n",
              "      <td>1</td>\n",
              "      <td>2</td>\n",
              "      <td>1.0</td>\n",
              "      <td>C12</td>\n",
              "      <td>F</td>\n",
              "      <td>28</td>\n",
              "      <td>0</td>\n",
              "      <td>0</td>\n",
              "      <td>13.0000</td>\n",
              "      <td>DistrictE</td>\n",
              "    </tr>\n",
              "    <tr>\n",
              "      <th>305</th>\n",
              "      <td>567</td>\n",
              "      <td>1</td>\n",
              "      <td>2</td>\n",
              "      <td>0.0</td>\n",
              "      <td>G12</td>\n",
              "      <td>F</td>\n",
              "      <td>17</td>\n",
              "      <td>0</td>\n",
              "      <td>0</td>\n",
              "      <td>10.5000</td>\n",
              "      <td>DistrictC</td>\n",
              "    </tr>\n",
              "    <tr>\n",
              "      <th>511</th>\n",
              "      <td>773</td>\n",
              "      <td>1</td>\n",
              "      <td>2</td>\n",
              "      <td>0.0</td>\n",
              "      <td>C12</td>\n",
              "      <td>F</td>\n",
              "      <td>28</td>\n",
              "      <td>1</td>\n",
              "      <td>0</td>\n",
              "      <td>26.0000</td>\n",
              "      <td>DistrictA</td>\n",
              "    </tr>\n",
              "    <tr>\n",
              "      <th>424</th>\n",
              "      <td>686</td>\n",
              "      <td>0</td>\n",
              "      <td>2</td>\n",
              "      <td>1.0</td>\n",
              "      <td>C12</td>\n",
              "      <td>M</td>\n",
              "      <td>23</td>\n",
              "      <td>0</td>\n",
              "      <td>0</td>\n",
              "      <td>13.0000</td>\n",
              "      <td>DistrictD</td>\n",
              "    </tr>\n",
              "  </tbody>\n",
              "</table>\n",
              "</div>"
            ],
            "text/plain": [
              "      Id  Bought_Product  ...  Billing_Amount   District\n",
              "215  477               0  ...         21.6792  DistrictC\n",
              "271  533               1  ...         13.0000  DistrictE\n",
              "305  567               1  ...         10.5000  DistrictC\n",
              "511  773               1  ...         26.0000  DistrictA\n",
              "424  686               0  ...         13.0000  DistrictD\n",
              "\n",
              "[5 rows x 11 columns]"
            ]
          },
          "metadata": {
            "tags": []
          },
          "execution_count": 113
        }
      ]
    },
    {
      "cell_type": "code",
      "metadata": {
        "id": "EfPDOjNNvdp2",
        "colab_type": "code",
        "colab": {
          "base_uri": "https://localhost:8080/",
          "height": 111
        },
        "outputId": "747c9609-daca-4d9b-d6d1-0776ff48b0dd"
      },
      "source": [
        "raw_df.set_index('Id', inplace=True)\n",
        "raw_df.sample()"
      ],
      "execution_count": 114,
      "outputs": [
        {
          "output_type": "execute_result",
          "data": {
            "text/html": [
              "<div>\n",
              "<style scoped>\n",
              "    .dataframe tbody tr th:only-of-type {\n",
              "        vertical-align: middle;\n",
              "    }\n",
              "\n",
              "    .dataframe tbody tr th {\n",
              "        vertical-align: top;\n",
              "    }\n",
              "\n",
              "    .dataframe thead th {\n",
              "        text-align: right;\n",
              "    }\n",
              "</style>\n",
              "<table border=\"1\" class=\"dataframe\">\n",
              "  <thead>\n",
              "    <tr style=\"text-align: right;\">\n",
              "      <th></th>\n",
              "      <th>Bought_Product</th>\n",
              "      <th>Market_Segment</th>\n",
              "      <th>Online_Account</th>\n",
              "      <th>EnergyTariff</th>\n",
              "      <th>Sex</th>\n",
              "      <th>Age</th>\n",
              "      <th>Non_Energy_Product</th>\n",
              "      <th>How_many_other_contracts</th>\n",
              "      <th>Billing_Amount</th>\n",
              "      <th>District</th>\n",
              "    </tr>\n",
              "    <tr>\n",
              "      <th>Id</th>\n",
              "      <th></th>\n",
              "      <th></th>\n",
              "      <th></th>\n",
              "      <th></th>\n",
              "      <th></th>\n",
              "      <th></th>\n",
              "      <th></th>\n",
              "      <th></th>\n",
              "      <th></th>\n",
              "      <th></th>\n",
              "    </tr>\n",
              "  </thead>\n",
              "  <tbody>\n",
              "    <tr>\n",
              "      <th>391</th>\n",
              "      <td>0</td>\n",
              "      <td>3</td>\n",
              "      <td>0.0</td>\n",
              "      <td>G12</td>\n",
              "      <td>F</td>\n",
              "      <td>20</td>\n",
              "      <td>0</td>\n",
              "      <td>0</td>\n",
              "      <td>8.6625</td>\n",
              "      <td>DistrictA</td>\n",
              "    </tr>\n",
              "  </tbody>\n",
              "</table>\n",
              "</div>"
            ],
            "text/plain": [
              "     Bought_Product  Market_Segment  ...  Billing_Amount   District\n",
              "Id                                   ...                           \n",
              "391               0               3  ...          8.6625  DistrictA\n",
              "\n",
              "[1 rows x 10 columns]"
            ]
          },
          "metadata": {
            "tags": []
          },
          "execution_count": 114
        }
      ]
    },
    {
      "cell_type": "code",
      "metadata": {
        "id": "XD7p7t5MwggM",
        "colab_type": "code",
        "colab": {
          "base_uri": "https://localhost:8080/",
          "height": 306
        },
        "outputId": "1ae39cb9-c8f4-41a2-be7e-5e29a00880aa"
      },
      "source": [
        "raw_df.info()"
      ],
      "execution_count": 115,
      "outputs": [
        {
          "output_type": "stream",
          "text": [
            "<class 'pandas.core.frame.DataFrame'>\n",
            "Int64Index: 626 entries, 262 to 887\n",
            "Data columns (total 10 columns):\n",
            " #   Column                    Non-Null Count  Dtype  \n",
            "---  ------                    --------------  -----  \n",
            " 0   Bought_Product            626 non-null    int64  \n",
            " 1   Market_Segment            626 non-null    int64  \n",
            " 2   Online_Account            367 non-null    float64\n",
            " 3   EnergyTariff              611 non-null    object \n",
            " 4   Sex                       626 non-null    object \n",
            " 5   Age                       626 non-null    int64  \n",
            " 6   Non_Energy_Product        626 non-null    int64  \n",
            " 7   How_many_other_contracts  626 non-null    int64  \n",
            " 8   Billing_Amount            618 non-null    float64\n",
            " 9   District                  607 non-null    object \n",
            "dtypes: float64(2), int64(5), object(3)\n",
            "memory usage: 53.8+ KB\n"
          ],
          "name": "stdout"
        }
      ]
    },
    {
      "cell_type": "markdown",
      "metadata": {
        "id": "-4vFjLO5-AIV",
        "colab_type": "text"
      },
      "source": [
        ""
      ]
    },
    {
      "cell_type": "markdown",
      "metadata": {
        "id": "2z5jg12aq34E",
        "colab_type": "text"
      },
      "source": [
        "### Sprawdzenie poprawności danych"
      ]
    },
    {
      "cell_type": "code",
      "metadata": {
        "id": "rTWPQJ-50RsR",
        "colab_type": "code",
        "colab": {
          "base_uri": "https://localhost:8080/",
          "height": 1000
        },
        "outputId": "1042ad33-cc9f-4a03-f533-e957804eef82"
      },
      "source": [
        "for col_ in raw_df.columns:\n",
        "  print(f\">>>>>{col_}<<<<<\")\n",
        "  unique_values = raw_df[col_].value_counts()\n",
        "  if unique_values.shape[0] < 10:\n",
        "    print(unique_values)\n",
        "  else:\n",
        "    raw_df[col_].hist(figsize=(5,2))\n",
        "    plt.title(col_)\n",
        "    plt.show()\n",
        "    \n",
        "\n",
        "\n"
      ],
      "execution_count": 116,
      "outputs": [
        {
          "output_type": "stream",
          "text": [
            ">>>>>Bought_Product<<<<<\n",
            "0    386\n",
            "1    240\n",
            "Name: Bought_Product, dtype: int64\n",
            ">>>>>Market_Segment<<<<<\n",
            "3    340\n",
            "1    144\n",
            "2    142\n",
            "Name: Market_Segment, dtype: int64\n",
            ">>>>>Online_Account<<<<<\n",
            "0.0    186\n",
            "1.0    181\n",
            "Name: Online_Account, dtype: int64\n",
            ">>>>>EnergyTariff<<<<<\n",
            "C12    345\n",
            "G12    245\n",
            "G11     21\n",
            "Name: EnergyTariff, dtype: int64\n",
            ">>>>>Sex<<<<<\n",
            "M    406\n",
            "F    220\n",
            "Name: Sex, dtype: int64\n",
            ">>>>>Age<<<<<\n"
          ],
          "name": "stdout"
        },
        {
          "output_type": "display_data",
          "data": {
            "image/png": "[encoded data removed]",
            "text/plain": [
              "<Figure size 360x144 with 1 Axes>"
            ]
          },
          "metadata": {
            "tags": [],
            "needs_background": "light"
          }
        },
        {
          "output_type": "stream",
          "text": [
            ">>>>>Non_Energy_Product<<<<<\n",
            "0    429\n",
            "1    144\n",
            "2     23\n",
            "3     14\n",
            "4     10\n",
            "8      3\n",
            "5      3\n",
            "Name: Non_Energy_Product, dtype: int64\n",
            ">>>>>How_many_other_contracts<<<<<\n",
            "0    480\n",
            "1     85\n",
            "2     51\n",
            "5      5\n",
            "3      4\n",
            "4      1\n",
            "Name: How_many_other_contracts, dtype: int64\n",
            ">>>>>Billing_Amount<<<<<\n"
          ],
          "name": "stdout"
        },
        {
          "output_type": "display_data",
          "data": {
            "image/png": "[encoded data removed]",
            "text/plain": [
              "<Figure size 360x144 with 1 Axes>"
            ]
          },
          "metadata": {
            "tags": [],
            "needs_background": "light"
          }
        },
        {
          "output_type": "stream",
          "text": [
            ">>>>>District<<<<<\n",
            "DistrictD    137\n",
            "DistrictC    133\n",
            "DistrictA    127\n",
            "DistrictB    123\n",
            "DistrictE     87\n",
            "Name: District, dtype: int64\n"
          ],
          "name": "stdout"
        }
      ]
    },
    {
      "cell_type": "code",
      "metadata": {
        "id": "6OW3E1neypki",
        "colab_type": "code",
        "colab": {}
      },
      "source": [
        "df = raw_df.drop(\"Online_Account\", axis=1)\n",
        "# df = raw_df.drop(columns=['Online_Account'])\n",
        "df.loc[(df['Age'] < 18) | (df['Age'] > 100), 'Age'] = np.nan\n",
        "df.dropna(inplace=True)"
      ],
      "execution_count": 0,
      "outputs": []
    },
    {
      "cell_type": "code",
      "metadata": {
        "id": "jlWIpBlL5VvQ",
        "colab_type": "code",
        "colab": {
          "base_uri": "https://localhost:8080/",
          "height": 34
        },
        "outputId": "92204631-065c-466f-830d-ea38d0e72196"
      },
      "source": [
        "raw_df.shape, df.shape"
      ],
      "execution_count": 135,
      "outputs": [
        {
          "output_type": "execute_result",
          "data": {
            "text/plain": [
              "((626, 10), (494, 9))"
            ]
          },
          "metadata": {
            "tags": []
          },
          "execution_count": 135
        }
      ]
    },
    {
      "cell_type": "code",
      "metadata": {
        "id": "WAcLQZNiITz5",
        "colab_type": "code",
        "colab": {
          "base_uri": "https://localhost:8080/",
          "height": 390
        },
        "outputId": "ad1b8372-c3a0-4d0b-b5ec-a1b354e7c3b0"
      },
      "source": [
        "df.head(10)"
      ],
      "execution_count": 136,
      "outputs": [
        {
          "output_type": "execute_result",
          "data": {
            "text/html": [
              "<div>\n",
              "<style scoped>\n",
              "    .dataframe tbody tr th:only-of-type {\n",
              "        vertical-align: middle;\n",
              "    }\n",
              "\n",
              "    .dataframe tbody tr th {\n",
              "        vertical-align: top;\n",
              "    }\n",
              "\n",
              "    .dataframe thead th {\n",
              "        text-align: right;\n",
              "    }\n",
              "</style>\n",
              "<table border=\"1\" class=\"dataframe\">\n",
              "  <thead>\n",
              "    <tr style=\"text-align: right;\">\n",
              "      <th></th>\n",
              "      <th>Bought_Product</th>\n",
              "      <th>Market_Segment</th>\n",
              "      <th>EnergyTariff</th>\n",
              "      <th>Sex</th>\n",
              "      <th>Age</th>\n",
              "      <th>Non_Energy_Product</th>\n",
              "      <th>How_many_other_contracts</th>\n",
              "      <th>Billing_Amount</th>\n",
              "      <th>District</th>\n",
              "    </tr>\n",
              "    <tr>\n",
              "      <th>Id</th>\n",
              "      <th></th>\n",
              "      <th></th>\n",
              "      <th></th>\n",
              "      <th></th>\n",
              "      <th></th>\n",
              "      <th></th>\n",
              "      <th></th>\n",
              "      <th></th>\n",
              "      <th></th>\n",
              "    </tr>\n",
              "  </thead>\n",
              "  <tbody>\n",
              "    <tr>\n",
              "      <th>262</th>\n",
              "      <td>0</td>\n",
              "      <td>3</td>\n",
              "      <td>G12</td>\n",
              "      <td>M</td>\n",
              "      <td>22.0</td>\n",
              "      <td>0</td>\n",
              "      <td>0</td>\n",
              "      <td>9.0000</td>\n",
              "      <td>DistrictA</td>\n",
              "    </tr>\n",
              "    <tr>\n",
              "      <th>263</th>\n",
              "      <td>0</td>\n",
              "      <td>2</td>\n",
              "      <td>C12</td>\n",
              "      <td>M</td>\n",
              "      <td>29.0</td>\n",
              "      <td>1</td>\n",
              "      <td>0</td>\n",
              "      <td>27.7208</td>\n",
              "      <td>DistrictA</td>\n",
              "    </tr>\n",
              "    <tr>\n",
              "      <th>264</th>\n",
              "      <td>0</td>\n",
              "      <td>3</td>\n",
              "      <td>G12</td>\n",
              "      <td>M</td>\n",
              "      <td>18.0</td>\n",
              "      <td>0</td>\n",
              "      <td>0</td>\n",
              "      <td>7.7958</td>\n",
              "      <td>DistrictD</td>\n",
              "    </tr>\n",
              "    <tr>\n",
              "      <th>265</th>\n",
              "      <td>0</td>\n",
              "      <td>3</td>\n",
              "      <td>G12</td>\n",
              "      <td>M</td>\n",
              "      <td>41.0</td>\n",
              "      <td>0</td>\n",
              "      <td>0</td>\n",
              "      <td>7.7500</td>\n",
              "      <td>DistrictD</td>\n",
              "    </tr>\n",
              "    <tr>\n",
              "      <th>266</th>\n",
              "      <td>0</td>\n",
              "      <td>3</td>\n",
              "      <td>G12</td>\n",
              "      <td>M</td>\n",
              "      <td>22.0</td>\n",
              "      <td>0</td>\n",
              "      <td>0</td>\n",
              "      <td>8.0500</td>\n",
              "      <td>DistrictA</td>\n",
              "    </tr>\n",
              "    <tr>\n",
              "      <th>268</th>\n",
              "      <td>0</td>\n",
              "      <td>3</td>\n",
              "      <td>C12</td>\n",
              "      <td>M</td>\n",
              "      <td>28.0</td>\n",
              "      <td>0</td>\n",
              "      <td>0</td>\n",
              "      <td>56.4958</td>\n",
              "      <td>DistrictD</td>\n",
              "    </tr>\n",
              "    <tr>\n",
              "      <th>269</th>\n",
              "      <td>0</td>\n",
              "      <td>2</td>\n",
              "      <td>G12</td>\n",
              "      <td>M</td>\n",
              "      <td>36.0</td>\n",
              "      <td>0</td>\n",
              "      <td>0</td>\n",
              "      <td>10.5000</td>\n",
              "      <td>DistrictA</td>\n",
              "    </tr>\n",
              "    <tr>\n",
              "      <th>270</th>\n",
              "      <td>0</td>\n",
              "      <td>2</td>\n",
              "      <td>C12</td>\n",
              "      <td>M</td>\n",
              "      <td>27.0</td>\n",
              "      <td>0</td>\n",
              "      <td>0</td>\n",
              "      <td>26.0000</td>\n",
              "      <td>DistrictA</td>\n",
              "    </tr>\n",
              "    <tr>\n",
              "      <th>271</th>\n",
              "      <td>1</td>\n",
              "      <td>2</td>\n",
              "      <td>C12</td>\n",
              "      <td>F</td>\n",
              "      <td>24.0</td>\n",
              "      <td>1</td>\n",
              "      <td>0</td>\n",
              "      <td>26.0000</td>\n",
              "      <td>DistrictE</td>\n",
              "    </tr>\n",
              "    <tr>\n",
              "      <th>272</th>\n",
              "      <td>0</td>\n",
              "      <td>2</td>\n",
              "      <td>C12</td>\n",
              "      <td>M</td>\n",
              "      <td>50.0</td>\n",
              "      <td>0</td>\n",
              "      <td>0</td>\n",
              "      <td>13.0000</td>\n",
              "      <td>DistrictC</td>\n",
              "    </tr>\n",
              "  </tbody>\n",
              "</table>\n",
              "</div>"
            ],
            "text/plain": [
              "     Bought_Product  Market_Segment  ... Billing_Amount   District\n",
              "Id                                   ...                          \n",
              "262               0               3  ...         9.0000  DistrictA\n",
              "263               0               2  ...        27.7208  DistrictA\n",
              "264               0               3  ...         7.7958  DistrictD\n",
              "265               0               3  ...         7.7500  DistrictD\n",
              "266               0               3  ...         8.0500  DistrictA\n",
              "268               0               3  ...        56.4958  DistrictD\n",
              "269               0               2  ...        10.5000  DistrictA\n",
              "270               0               2  ...        26.0000  DistrictA\n",
              "271               1               2  ...        26.0000  DistrictE\n",
              "272               0               2  ...        13.0000  DistrictC\n",
              "\n",
              "[10 rows x 9 columns]"
            ]
          },
          "metadata": {
            "tags": []
          },
          "execution_count": 136
        }
      ]
    },
    {
      "cell_type": "code",
      "metadata": {
        "id": "h6GWbG-IywsQ",
        "colab_type": "code",
        "colab": {}
      },
      "source": [
        "cat_columns = ['Market_Segment', 'Sex', 'District', 'EnergyTariff']\n",
        "for col_ in cat_columns:\n",
        "  df = df.join(pd.get_dummies(df[col_], drop_first=True, prefix=col_)).drop(col_, axis=1)"
      ],
      "execution_count": 0,
      "outputs": []
    },
    {
      "cell_type": "code",
      "metadata": {
        "id": "8_e_dpXP5elP",
        "colab_type": "code",
        "colab": {
          "base_uri": "https://localhost:8080/",
          "height": 34
        },
        "outputId": "fa07c031-6938-4323-c339-b2c7b4f22085"
      },
      "source": [
        "df.shape"
      ],
      "execution_count": 138,
      "outputs": [
        {
          "output_type": "execute_result",
          "data": {
            "text/plain": [
              "(494, 14)"
            ]
          },
          "metadata": {
            "tags": []
          },
          "execution_count": 138
        }
      ]
    },
    {
      "cell_type": "code",
      "metadata": {
        "id": "-B8I2C2z4O9z",
        "colab_type": "code",
        "colab": {
          "base_uri": "https://localhost:8080/",
          "height": 131
        },
        "outputId": "a37b3fba-074e-4203-e36c-b087bd07ec53"
      },
      "source": [
        "df.sample()"
      ],
      "execution_count": 139,
      "outputs": [
        {
          "output_type": "execute_result",
          "data": {
            "text/html": [
              "<div>\n",
              "<style scoped>\n",
              "    .dataframe tbody tr th:only-of-type {\n",
              "        vertical-align: middle;\n",
              "    }\n",
              "\n",
              "    .dataframe tbody tr th {\n",
              "        vertical-align: top;\n",
              "    }\n",
              "\n",
              "    .dataframe thead th {\n",
              "        text-align: right;\n",
              "    }\n",
              "</style>\n",
              "<table border=\"1\" class=\"dataframe\">\n",
              "  <thead>\n",
              "    <tr style=\"text-align: right;\">\n",
              "      <th></th>\n",
              "      <th>Bought_Product</th>\n",
              "      <th>Age</th>\n",
              "      <th>Non_Energy_Product</th>\n",
              "      <th>How_many_other_contracts</th>\n",
              "      <th>Billing_Amount</th>\n",
              "      <th>Market_Segment_2</th>\n",
              "      <th>Market_Segment_3</th>\n",
              "      <th>Sex_M</th>\n",
              "      <th>District_DistrictB</th>\n",
              "      <th>District_DistrictC</th>\n",
              "      <th>District_DistrictD</th>\n",
              "      <th>District_DistrictE</th>\n",
              "      <th>EnergyTariff_G11</th>\n",
              "      <th>EnergyTariff_G12</th>\n",
              "    </tr>\n",
              "    <tr>\n",
              "      <th>Id</th>\n",
              "      <th></th>\n",
              "      <th></th>\n",
              "      <th></th>\n",
              "      <th></th>\n",
              "      <th></th>\n",
              "      <th></th>\n",
              "      <th></th>\n",
              "      <th></th>\n",
              "      <th></th>\n",
              "      <th></th>\n",
              "      <th></th>\n",
              "      <th></th>\n",
              "      <th></th>\n",
              "      <th></th>\n",
              "    </tr>\n",
              "  </thead>\n",
              "  <tbody>\n",
              "    <tr>\n",
              "      <th>325</th>\n",
              "      <td>0</td>\n",
              "      <td>28.0</td>\n",
              "      <td>0</td>\n",
              "      <td>1</td>\n",
              "      <td>33.0</td>\n",
              "      <td>1</td>\n",
              "      <td>0</td>\n",
              "      <td>1</td>\n",
              "      <td>0</td>\n",
              "      <td>0</td>\n",
              "      <td>0</td>\n",
              "      <td>0</td>\n",
              "      <td>0</td>\n",
              "      <td>0</td>\n",
              "    </tr>\n",
              "  </tbody>\n",
              "</table>\n",
              "</div>"
            ],
            "text/plain": [
              "     Bought_Product   Age  ...  EnergyTariff_G11  EnergyTariff_G12\n",
              "Id                         ...                                    \n",
              "325               0  28.0  ...                 0                 0\n",
              "\n",
              "[1 rows x 14 columns]"
            ]
          },
          "metadata": {
            "tags": []
          },
          "execution_count": 139
        }
      ]
    },
    {
      "cell_type": "code",
      "metadata": {
        "id": "9YyRkMSP44_o",
        "colab_type": "code",
        "colab": {}
      },
      "source": [
        "y = df[\"Bought_Product\"]\n",
        "X = df.drop('Bought_Product', axis=1)"
      ],
      "execution_count": 0,
      "outputs": []
    },
    {
      "cell_type": "code",
      "metadata": {
        "id": "7c3FzG8S5tOn",
        "colab_type": "code",
        "colab": {
          "base_uri": "https://localhost:8080/",
          "height": 34
        },
        "outputId": "b76beba7-76e9-4187-c33b-33a489a3c26a"
      },
      "source": [
        "y.shape, X.shape"
      ],
      "execution_count": 143,
      "outputs": [
        {
          "output_type": "execute_result",
          "data": {
            "text/plain": [
              "((494,), (494, 13))"
            ]
          },
          "metadata": {
            "tags": []
          },
          "execution_count": 143
        }
      ]
    },
    {
      "cell_type": "code",
      "metadata": {
        "id": "NTLBPX5_5u1-",
        "colab_type": "code",
        "colab": {}
      },
      "source": [
        "from sklearn.model_selection import train_test_split"
      ],
      "execution_count": 0,
      "outputs": []
    },
    {
      "cell_type": "code",
      "metadata": {
        "id": "Js_oKuHN52p-",
        "colab_type": "code",
        "colab": {}
      },
      "source": [
        "X_train, X_test, y_train, y_test = train_test_split(X, y, test_size=0.4, random_state=0, stratify=y)"
      ],
      "execution_count": 0,
      "outputs": []
    },
    {
      "cell_type": "code",
      "metadata": {
        "id": "DFIthNE16F73",
        "colab_type": "code",
        "colab": {}
      },
      "source": [
        "from sklearn.tree import DecisionTreeClassifier\n",
        "from sklearn.metrics import accuracy_score, plot_roc_curve, confusion_matrix"
      ],
      "execution_count": 0,
      "outputs": []
    },
    {
      "cell_type": "code",
      "metadata": {
        "id": "3jTIW7pC6OMo",
        "colab_type": "code",
        "colab": {
          "base_uri": "https://localhost:8080/",
          "height": 51
        },
        "outputId": "0ca5bf54-9e8b-4d7e-9493-d4709edd1bf8"
      },
      "source": [
        "model = DecisionTreeClassifier(max_depth=2, random_state=0)\n",
        "\n",
        "model.fit(X_train, y_train)\n",
        "y_train_pred = model.predict(X_train)\n",
        "y_test_pred = model.predict(X_test)\n",
        "\n",
        "print(f\"{accuracy_score(y_train, y_train_pred)}\")\n",
        "print(f\"{accuracy_score(y_test, y_test_pred)}\")"
      ],
      "execution_count": 158,
      "outputs": [
        {
          "output_type": "stream",
          "text": [
            "0.810126582278481\n",
            "0.8181818181818182\n"
          ],
          "name": "stdout"
        }
      ]
    },
    {
      "cell_type": "code",
      "metadata": {
        "id": "2plX7b5gWAGU",
        "colab_type": "code",
        "colab": {
          "base_uri": "https://localhost:8080/",
          "height": 34
        },
        "outputId": "ca6efc88-3c74-4b5e-b49a-de45d36d1e07"
      },
      "source": [
        "tn, fp, fn, tp = confusion_matrix(y_train, y_train_pred).ravel()\n",
        "(tn, fp, fn, tp)"
      ],
      "execution_count": 166,
      "outputs": [
        {
          "output_type": "execute_result",
          "data": {
            "text/plain": [
              "(217, 34, 42, 102)"
            ]
          },
          "metadata": {
            "tags": []
          },
          "execution_count": 166
        }
      ]
    },
    {
      "cell_type": "code",
      "metadata": {
        "id": "juqXcct-637y",
        "colab_type": "code",
        "colab": {
          "base_uri": "https://localhost:8080/",
          "height": 238
        },
        "outputId": "3e3f8519-3fa1-466b-faf1-d5b6928c4bf1"
      },
      "source": [
        "for k, importance in zip(X.columns, model.feature_importances_):\n",
        "  print(k, importance)"
      ],
      "execution_count": 151,
      "outputs": [
        {
          "output_type": "stream",
          "text": [
            "Age 0.1963699378237943\n",
            "Non_Energy_Product 0.022751213755323896\n",
            "How_many_other_contracts 0.005494276216043286\n",
            "Billing_Amount 0.1989820220808584\n",
            "Market_Segment_2 0.005127991134973734\n",
            "Market_Segment_3 0.06927899014478127\n",
            "Sex_M 0.34254624017336477\n",
            "District_DistrictB 0.03334742980070777\n",
            "District_DistrictC 0.03950646231535886\n",
            "District_DistrictD 0.0683727537715834\n",
            "District_DistrictE 0.01822268278321023\n",
            "EnergyTariff_G11 0.0\n",
            "EnergyTariff_G12 0.0\n"
          ],
          "name": "stdout"
        }
      ]
    },
    {
      "cell_type": "code",
      "metadata": {
        "id": "mj_c-NrR8tRl",
        "colab_type": "code",
        "colab": {}
      },
      "source": [
        "from sklearn.svm import LinearSVC"
      ],
      "execution_count": 0,
      "outputs": []
    },
    {
      "cell_type": "code",
      "metadata": {
        "id": "3MzN0FSH7kid",
        "colab_type": "code",
        "colab": {
          "base_uri": "https://localhost:8080/",
          "height": 85
        },
        "outputId": "e9678fc1-493a-4fcf-b393-de955da8585f"
      },
      "source": [
        "model2 = LinearSVC(random_state=0, max_iter=10000)\n",
        "model2.fit(X_train, y_train)\n",
        "y_train_pred = model2.predict(X_train)\n",
        "y_test_pred = model2.predict(X_test)\n",
        "print(f\"{accuracy_score(y_train, y_train_pred)}\")\n",
        "print(f\"{accuracy_score(y_test, y_test_pred)}\")"
      ],
      "execution_count": 163,
      "outputs": [
        {
          "output_type": "stream",
          "text": [
            "0.8075949367088607\n",
            "0.8181818181818182\n"
          ],
          "name": "stdout"
        },
        {
          "output_type": "stream",
          "text": [
            "/usr/local/lib/python3.6/dist-packages/sklearn/svm/_base.py:947: ConvergenceWarning: Liblinear failed to converge, increase the number of iterations.\n",
            "  \"the number of iterations.\", ConvergenceWarning)\n"
          ],
          "name": "stderr"
        }
      ]
    },
    {
      "cell_type": "code",
      "metadata": {
        "id": "bb3blXCN839Y",
        "colab_type": "code",
        "colab": {}
      },
      "source": [
        ""
      ],
      "execution_count": 0,
      "outputs": []
    },
    {
      "cell_type": "code",
      "metadata": {
        "id": "5Lw0z4uv9GUO",
        "colab_type": "code",
        "colab": {}
      },
      "source": [
        ""
      ],
      "execution_count": 0,
      "outputs": []
    }
  ]
}